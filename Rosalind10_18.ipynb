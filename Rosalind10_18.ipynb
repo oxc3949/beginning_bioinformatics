{
  "nbformat": 4,
  "nbformat_minor": 0,
  "metadata": {
    "colab": {
      "provenance": [],
      "authorship_tag": "ABX9TyMs7j9qb5QI4LPQSFF7X2lq",
      "include_colab_link": true
    },
    "kernelspec": {
      "name": "python3",
      "display_name": "Python 3"
    },
    "language_info": {
      "name": "python"
    }
  },
  "cells": [
    {
      "cell_type": "markdown",
      "metadata": {
        "id": "view-in-github",
        "colab_type": "text"
      },
      "source": [
        "<a href=\"https://colab.research.google.com/github/oxc3949/beginning_bioinformatics/blob/main/Rosalind10_18.ipynb\" target=\"_parent\"><img src=\"https://colab.research.google.com/assets/colab-badge.svg\" alt=\"Open In Colab\"/></a>"
      ]
    },
    {
      "cell_type": "code",
      "source": [
        "from typing import Text\n",
        "Text = \"CGTCTAGTCCGAAACTAGTCCGAAGTCCGAAAAGTCCGAAAGTCCGAAGTCCGAAGTCCGACGGAGTCCGAGAAGTCCGACCGTTGAGTCCGACAGAAGTCCGAGAGACTAAGTCCGAAGTCCGACCAGTCCGACAATTTAGTCCGAGCTAAGTCCGAAGTCCGAGGTATAGTCCGAAGTCCGATAGTCCGAACAGTCCGAAGTCCGAAGTCCGATAGTCCGACCAGTCCGAAGTCCGATCAGCAGTCCGATTAGTCCGAAGTCCGAAGAGTCCGAGGGAGTAAGTCCGAGGGCCCAGTCCGACAGTCCGATAGTCCGAAGTCCGACGGGCAAGTCCGAAGTCCGAGAAGTCCGATAGTCCGAATCGAGTCCGATCAGTCCGAATTAGTCCGATTAGTCCGATGAGTCCGAGCACCTATTTAGTCCGACCAGTCCGATGGTGGAGTCCGAGTAGTCCGAGAGTCCGAAAGTCCGAAGTCCGACATAGCCAAGTCCGAAACTGAGTCCGAAGTCCGAAGTCCGAGTTATGGAGTCCGACATGCAGTCCGAGTGCTAAGTCCGAAGCAGTCCGAAGTCCGAGCGCAGTCCGACGAATAGTCCGAGAGTCCGAGAGTCCGAGCCAGTCCGACAGACTAGTCCGATAAGTCCGAACAGTCCGAAGATTCAGGTGGAGTCCGACAATTGTCAGTCCGAAGTCCGACAAAGTCCGATGCAAACTAGTCCGATATTAAGTCCGACGACGTGTCTTCGGAGTCCGATAGTCCGACAGTCCGAAGTCCGATCAGTCCGATGAGTCCGAGAGCAGTCCGAAGTCCGAAAACAGTCCGAATCCGAGTCCGAAGTCCGAGTGCCCAGAAGTCCGACGAGTCCGAAATAGTCCGATCTAGTCCGATGGGAGTCCGAGAGTCCGATCGCGGCAAGTCCGAAGTCCGACTAGTCCGATAGTCCGAAGTCCGAATAGTCCGAGAGTCCGAAGTCCGAGAGTCCGAGTAGTCCGAAGTCCGAGAGTCCGAAGTCCGAGAGTTTAATT\"\n",
        "Pattern = \"CC\"\n",
        "def PatternCount(Text, Pattern):\n",
        "  count = 0\n",
        "  for i in range(len(Text) - len(Pattern) + 1):\n",
        "    if Text[i:i+len(Pattern)] == Pattern:\n",
        "      count = count + 1\n",
        "  return count\n",
        "print(PatternCount(Text, Pattern))"
      ],
      "metadata": {
        "id": "7TyZjJS3cHA6",
        "colab": {
          "base_uri": "https://localhost:8080/"
        },
        "outputId": "89bc612d-a8ab-4ca9-8a79-1cd708a4f95b"
      },
      "execution_count": null,
      "outputs": [
        {
          "output_type": "stream",
          "name": "stdout",
          "text": [
            "5\n"
          ]
        }
      ]
    }
  ]
}